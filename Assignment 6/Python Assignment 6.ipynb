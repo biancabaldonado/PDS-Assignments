{
 "cells": [
  {
   "cell_type": "markdown",
   "id": "24b98369-c7ba-450b-a8b5-e34319000695",
   "metadata": {
    "slideshow": {
     "slide_type": "slide"
    },
    "tags": []
   },
   "source": [
    "# Python for Data Science\n",
    "## Session 6\n",
    "### Datasets – Pandas I "
   ]
  },
  {
   "cell_type": "markdown",
   "id": "3ace1343-d73d-466d-aa07-56febbb7cbf1",
   "metadata": {
    "slideshow": {
     "slide_type": "skip"
    },
    "tags": []
   },
   "source": [
    "---"
   ]
  },
  {
   "cell_type": "markdown",
   "id": "50d31763",
   "metadata": {},
   "source": [
    "### ***Note Before Proceeding***\n",
    "1. Download the \"netflix_titles\" and \"train_and_test2 2.csv\" \n",
    "2. Make sure to update the \"path\" variable to the specific path where you downloaded the files\n",
    "3. The dataset does not contain any titles in 2021 for the Philippines"
   ]
  },
  {
   "cell_type": "markdown",
   "id": "027d2fe3",
   "metadata": {},
   "source": [
    "## Netflix Questions"
   ]
  },
  {
   "cell_type": "markdown",
   "id": "88ece46c",
   "metadata": {},
   "source": [
    "### **Question 1. Is there any missing rating?**"
   ]
  },
  {
   "cell_type": "code",
   "execution_count": 175,
   "id": "81001158",
   "metadata": {},
   "outputs": [
    {
     "name": "stdout",
     "output_type": "stream",
     "text": [
      "----Number of rows with missing ratings----\n",
      "There are 4 titles that do not have ratings\n",
      "\n",
      "----Titles with missing 'rating'----\n",
      "13TH: A Conversation with Oprah Winfrey & Ava DuVernay\n",
      "Gargantia on the Verdurous Planet\n",
      "Little Lunch\n",
      "My Honor Was Loyalty\n",
      "\n",
      "----Information of the 4 Titles with missing 'rating'----\n"
     ]
    },
    {
     "data": {
      "text/html": [
       "<div>\n",
       "<style scoped>\n",
       "    .dataframe tbody tr th:only-of-type {\n",
       "        vertical-align: middle;\n",
       "    }\n",
       "\n",
       "    .dataframe tbody tr th {\n",
       "        vertical-align: top;\n",
       "    }\n",
       "\n",
       "    .dataframe thead th {\n",
       "        text-align: right;\n",
       "    }\n",
       "</style>\n",
       "<table border=\"1\" class=\"dataframe\">\n",
       "  <thead>\n",
       "    <tr style=\"text-align: right;\">\n",
       "      <th></th>\n",
       "      <th>show_id</th>\n",
       "      <th>type</th>\n",
       "      <th>title</th>\n",
       "      <th>director</th>\n",
       "      <th>cast</th>\n",
       "      <th>country</th>\n",
       "      <th>date_added</th>\n",
       "      <th>release_year</th>\n",
       "      <th>rating</th>\n",
       "      <th>duration</th>\n",
       "      <th>listed_in</th>\n",
       "      <th>description</th>\n",
       "    </tr>\n",
       "  </thead>\n",
       "  <tbody>\n",
       "    <tr>\n",
       "      <th>5989</th>\n",
       "      <td>s5990</td>\n",
       "      <td>Movie</td>\n",
       "      <td>13TH: A Conversation with Oprah Winfrey &amp; Ava ...</td>\n",
       "      <td>NaN</td>\n",
       "      <td>Oprah Winfrey, Ava DuVernay</td>\n",
       "      <td>NaN</td>\n",
       "      <td>January 26, 2017</td>\n",
       "      <td>2017</td>\n",
       "      <td>NaN</td>\n",
       "      <td>37 min</td>\n",
       "      <td>Movies</td>\n",
       "      <td>Oprah Winfrey sits down with director Ava DuVe...</td>\n",
       "    </tr>\n",
       "    <tr>\n",
       "      <th>6827</th>\n",
       "      <td>s6828</td>\n",
       "      <td>TV Show</td>\n",
       "      <td>Gargantia on the Verdurous Planet</td>\n",
       "      <td>NaN</td>\n",
       "      <td>Kaito Ishikawa, Hisako Kanemoto, Ai Kayano, Ka...</td>\n",
       "      <td>Japan</td>\n",
       "      <td>December 1, 2016</td>\n",
       "      <td>2013</td>\n",
       "      <td>NaN</td>\n",
       "      <td>1 Season</td>\n",
       "      <td>Anime Series, International TV Shows</td>\n",
       "      <td>After falling through a wormhole, a space-dwel...</td>\n",
       "    </tr>\n",
       "    <tr>\n",
       "      <th>7312</th>\n",
       "      <td>s7313</td>\n",
       "      <td>TV Show</td>\n",
       "      <td>Little Lunch</td>\n",
       "      <td>NaN</td>\n",
       "      <td>Flynn Curry, Olivia Deeble, Madison Lu, Oisín ...</td>\n",
       "      <td>Australia</td>\n",
       "      <td>February 1, 2018</td>\n",
       "      <td>2015</td>\n",
       "      <td>NaN</td>\n",
       "      <td>1 Season</td>\n",
       "      <td>Kids' TV, TV Comedies</td>\n",
       "      <td>Adopting a child's perspective, this show take...</td>\n",
       "    </tr>\n",
       "    <tr>\n",
       "      <th>7537</th>\n",
       "      <td>s7538</td>\n",
       "      <td>Movie</td>\n",
       "      <td>My Honor Was Loyalty</td>\n",
       "      <td>Alessandro Pepe</td>\n",
       "      <td>Leone Frisa, Paolo Vaccarino, Francesco Miglio...</td>\n",
       "      <td>Italy</td>\n",
       "      <td>March 1, 2017</td>\n",
       "      <td>2015</td>\n",
       "      <td>NaN</td>\n",
       "      <td>115 min</td>\n",
       "      <td>Dramas</td>\n",
       "      <td>Amid the chaos and horror of World War II, a c...</td>\n",
       "    </tr>\n",
       "  </tbody>\n",
       "</table>\n",
       "</div>"
      ],
      "text/plain": [
       "     show_id     type                                              title  \\\n",
       "5989   s5990    Movie  13TH: A Conversation with Oprah Winfrey & Ava ...   \n",
       "6827   s6828  TV Show                  Gargantia on the Verdurous Planet   \n",
       "7312   s7313  TV Show                                       Little Lunch   \n",
       "7537   s7538    Movie                               My Honor Was Loyalty   \n",
       "\n",
       "             director                                               cast  \\\n",
       "5989              NaN                        Oprah Winfrey, Ava DuVernay   \n",
       "6827              NaN  Kaito Ishikawa, Hisako Kanemoto, Ai Kayano, Ka...   \n",
       "7312              NaN  Flynn Curry, Olivia Deeble, Madison Lu, Oisín ...   \n",
       "7537  Alessandro Pepe  Leone Frisa, Paolo Vaccarino, Francesco Miglio...   \n",
       "\n",
       "        country        date_added  release_year rating  duration  \\\n",
       "5989        NaN  January 26, 2017          2017    NaN    37 min   \n",
       "6827      Japan  December 1, 2016          2013    NaN  1 Season   \n",
       "7312  Australia  February 1, 2018          2015    NaN  1 Season   \n",
       "7537      Italy     March 1, 2017          2015    NaN   115 min   \n",
       "\n",
       "                                 listed_in  \\\n",
       "5989                                Movies   \n",
       "6827  Anime Series, International TV Shows   \n",
       "7312                 Kids' TV, TV Comedies   \n",
       "7537                                Dramas   \n",
       "\n",
       "                                            description  \n",
       "5989  Oprah Winfrey sits down with director Ava DuVe...  \n",
       "6827  After falling through a wormhole, a space-dwel...  \n",
       "7312  Adopting a child's perspective, this show take...  \n",
       "7537  Amid the chaos and horror of World War II, a c...  "
      ]
     },
     "execution_count": 175,
     "metadata": {},
     "output_type": "execute_result"
    }
   ],
   "source": [
    "\"\"\"\n",
    "This code checks if any of the Netflix titles contain missing ratings:\n",
    "1. Loads the dataset\n",
    "2. Finds titles with NaN values for 'rating' \n",
    "3. Prints the count, titles, and more details of missing ratings\n",
    "\"\"\"\n",
    "\n",
    "import pandas as pd\n",
    "path = '/Users/biancabaldonado/Desktop/netflix_titles.csv'\n",
    "#Edit this path depending on where you saved the netflix_titles.csv file\n",
    "\n",
    "df = pd.read_csv(path)\n",
    "\n",
    "#Indexing the titles that do not have a value for the rating\n",
    "missing_ratings = df[df['rating'].isna()]\n",
    "\n",
    "#Printing the number of titles missing\n",
    "print(\"----Number of rows with missing ratings----\")\n",
    "print(f'There are {len(missing_ratings)} titles that do not have ratings')\n",
    "\n",
    "#Printing the names of these titles with missing ratings\n",
    "print(\"\\n----Titles with missing 'rating'----\")\n",
    "for title in missing_ratings['title']:\n",
    "    print(title)\n",
    "\n",
    "#Printing more information about these missing titles\n",
    "print(\"\\n----Information of the 4 Titles with missing 'rating'----\")\n",
    "missing_ratings"
   ]
  },
  {
   "cell_type": "markdown",
   "id": "e6475bb6",
   "metadata": {},
   "source": [
    "### **Question 2. How many films in 2021 correspond to your country?**"
   ]
  },
  {
   "cell_type": "code",
   "execution_count": 176,
   "id": "6b5d5c62",
   "metadata": {},
   "outputs": [
    {
     "name": "stdout",
     "output_type": "stream",
     "text": [
      "----Titles Released in 2021 from the Philippines----\n",
      "There were 0 titles released in 2021 in the Philippines. Since there are no releases during this given year, we look into the most recent releases instead.\n",
      "\n",
      "----Titles Released in the Most Recent Year in the Philippines----\n",
      "The most recent release year is 2020. There were 5 titles released in 2020 from the Philippines, 4 of which are movies and 1 of which are TV shows.\n"
     ]
    }
   ],
   "source": [
    "\"\"\"\n",
    "This code analyzes titles from the Philippines, including the breakdown of Movies and TV Shows released in 2021.\n",
    "If no titles were released in 2021, it will show the most recent release year and count the titles for that said year.\n",
    "\"\"\"\n",
    "\n",
    "ph_titles = df[df['country'] == 'Philippines']\n",
    "\n",
    "# Count titles, movies, and TV shows from 2021\n",
    "count_ph_titles_2021 = len(ph_titles[ph_titles['release_year'] == 2021])\n",
    "count_ph_movies_2021 = len(ph_titles[(ph_titles['release_year'] == 2021) & (ph_titles['type'] == 'Movie')])\n",
    "count_ph_tvshows_2021 = len(ph_titles[(ph_titles['release_year'] == 2021) & (ph_titles['type'] == 'TV Show')])\n",
    "\n",
    "print(\"----Titles Released in 2021 from the Philippines----\")\n",
    "\n",
    "# If no titles from 2021, show the most recent year instead\n",
    "if count_ph_titles_2021 == 0:\n",
    "    recent_year = ph_titles['release_year'].max()\n",
    "    count_ph_titles_recent = len(ph_titles[ph_titles['release_year'] == recent_year])\n",
    "    count_ph_movies_recent = len(ph_titles[(ph_titles['release_year'] == recent_year) & (ph_titles['type'] == 'Movie')])\n",
    "    count_ph_tvshows_recent = len(ph_titles[(ph_titles['release_year'] == recent_year) & (ph_titles['type'] == 'TV Show')])\n",
    "\n",
    "    print(f'There were {count_ph_titles_2021} titles released in 2021 in the Philippines. Since there are no releases during this given year, we look into the most recent releases instead.')\n",
    "    print(\"\\n----Titles Released in the Most Recent Year in the Philippines----\")\n",
    "    print(f\"The most recent release year is {recent_year}. There were {count_ph_titles_recent} titles released in {recent_year} from the Philippines, {count_ph_movies_recent} of which are movies and {count_ph_tvshows_recent} of which are TV shows.\")\n",
    "else:\n",
    "    print(f\"{count_ph_titles_2021} titles were released in 2021 in the Philippines, including {count_ph_movies_2021} movies and {count_ph_tvshows_2021} TV shows.\")\n"
   ]
  },
  {
   "cell_type": "markdown",
   "id": "7ebc4943",
   "metadata": {},
   "source": [
    "### **Question 3. What's the number of movies in 2020 with full information?**\n"
   ]
  },
  {
   "cell_type": "code",
   "execution_count": 177,
   "id": "c639d6f7",
   "metadata": {},
   "outputs": [
    {
     "name": "stdout",
     "output_type": "stream",
     "text": [
      "----Number of Movies in 2020 with Full Information----\n",
      "There are 409 movies from 2020 with full information.\n"
     ]
    }
   ],
   "source": [
    "\"\"\"\n",
    "This code looks for the movies released in 2020 that have full information.\n",
    "\"\"\"\n",
    "\n",
    "#Indexing the movies from 2020 \n",
    "films_2020 = df[(df['release_year'] == 2020) & (df['type'] == 'Movie')]\n",
    "\n",
    "#Removing the movies that have missing information / NaN values\n",
    "films_2020_complete = films_2020.dropna()\n",
    "\n",
    "#Counting the number of movies with complete information, after those with missing values have been dropped\n",
    "num_films_complete = len(films_2020_complete)\n",
    "\n",
    "#Printing the value of the movies with full information\n",
    "print(\"----Number of Movies in 2020 with Full Information----\")\n",
    "print(f'There are {num_films_complete} movies from 2020 with full information.')\n"
   ]
  },
  {
   "cell_type": "markdown",
   "id": "eb93957c",
   "metadata": {},
   "source": [
    "### **Question 4. Give me the year with more titles**\n"
   ]
  },
  {
   "cell_type": "code",
   "execution_count": 178,
   "id": "f9100d06",
   "metadata": {},
   "outputs": [
    {
     "name": "stdout",
     "output_type": "stream",
     "text": [
      "----Year with the Most Titles----\n",
      "2018 is the year with the most titles, as it specifically has 1147 titles.\n"
     ]
    }
   ],
   "source": [
    "\"\"\"\n",
    "This code looks for the year with the most titles.\n",
    "\"\"\"\n",
    "\n",
    "#Counting the titles released per year\n",
    "films_per_year = df['release_year'].value_counts()\n",
    "\n",
    "#Looking for the year with the most titles\n",
    "year_with_most_films = films_per_year.idxmax()\n",
    "film_count = films_per_year.max()\n",
    "\n",
    "#Printing the year with the most titles\n",
    "print(\"----Year with the Most Titles----\")\n",
    "print(f'{year_with_most_films} is the year with the most titles, as it specifically has {film_count} titles.')"
   ]
  },
  {
   "cell_type": "markdown",
   "id": "af79ed60",
   "metadata": {},
   "source": [
    "### **Question 5. What has been the average in terms of releases from 2010?**"
   ]
  },
  {
   "cell_type": "code",
   "execution_count": 179,
   "id": "2117b2de",
   "metadata": {},
   "outputs": [
    {
     "name": "stdout",
     "output_type": "stream",
     "text": [
      "----Average Releases Since 2010----\n",
      "The average number of movie releases per year from 2010 is 622.67\n"
     ]
    }
   ],
   "source": [
    "\"\"\"\n",
    "This code looks for the average number of releases since 2010.\n",
    "\"\"\"\n",
    "\n",
    "#Indexing the dataframe to see all releases since 2010\n",
    "since_2010 = df[df['release_year'] >= 2010]\n",
    "\n",
    "#Grouping by release year\n",
    "releases_per_year = since_2010.groupby('release_year').size()\n",
    "\n",
    "#Averaging the total releases since 2010\n",
    "average_releases = releases_per_year.mean()\n",
    "\n",
    "#Printing the average release\n",
    "print(\"----Average Releases Since 2010----\")\n",
    "print(f\"The average number of movie releases per year from 2010 is {average_releases:.2f}\")"
   ]
  },
  {
   "cell_type": "markdown",
   "id": "430f067c",
   "metadata": {},
   "source": [
    "## Titanic Questions"
   ]
  },
  {
   "cell_type": "markdown",
   "id": "0ec1445f",
   "metadata": {},
   "source": [
    "### **Question 1. Calculate Gender-Based Survival Percentage**"
   ]
  },
  {
   "cell_type": "code",
   "execution_count": 180,
   "id": "60fc7b11",
   "metadata": {},
   "outputs": [
    {
     "name": "stdout",
     "output_type": "stream",
     "text": [
      "----Gender-Based Survival Percentage----\n",
      "Sex\n",
      "0    0.1293\n",
      "1    0.5000\n",
      "Name: 2urvived, dtype: float64\n",
      "\n",
      "----Analsyis of Gender-Based Survival Percentage----\n",
      "The Sex 1 has the highest survival percentage, which is 0.50\n"
     ]
    }
   ],
   "source": [
    "\"\"\"\n",
    "This code calculates the mean survival rate for each gender\n",
    "\"\"\"\n",
    "\n",
    "path = '/Users/biancabaldonado/Desktop/train_and_test2 2.csv'\n",
    "#Edit this path depending on where you saved the netflix_titles.csv file\n",
    "\n",
    "df = pd.read_csv(path)\n",
    "\n",
    "#Grouping the data by gender ('Sex') and calculating the mean gender-based survival percentage\n",
    "gender_survival = df.groupby('Sex')['2urvived'].mean() \n",
    "print(\"----Gender-Based Survival Percentage----\")\n",
    "print(gender_survival)\n",
    "\n",
    "#Identifying the gender with the higher survival percentage\n",
    "highest_survival_sex = gender_survival.idxmax()  \n",
    "highest_survival_percentage = gender_survival.max()  \n",
    "\n",
    "print(\"\\n----Analsyis of Gender-Based Survival Percentage----\")\n",
    "print(f\"The Sex {highest_survival_sex} has the highest survival percentage, which is {highest_survival_percentage:.2f}\")"
   ]
  },
  {
   "cell_type": "markdown",
   "id": "c2d26fc3",
   "metadata": {},
   "source": [
    "### **Question 2. Calculate Survival Percentage Grouped by Gender and Class**"
   ]
  },
  {
   "cell_type": "code",
   "execution_count": 181,
   "id": "d05c4735",
   "metadata": {},
   "outputs": [
    {
     "name": "stdout",
     "output_type": "stream",
     "text": [
      "----Survival Percentage Grouped by Gender and Class----\n",
      "Sex  Pclass\n",
      "0    1         0.251397\n",
      "     2         0.099415\n",
      "     3         0.095335\n",
      "1    1         0.631944\n",
      "     2         0.660377\n",
      "     3         0.333333\n",
      "Name: 2urvived, dtype: float64\n",
      "\n",
      "----Highest Survival Rate Grouped by Gender and Class----\n",
      "The gender-class combination with the highest survival percentage rate is Sex 1 and Pclass 2 with a survival percentage of 0.66\n"
     ]
    }
   ],
   "source": [
    "\"\"\"\n",
    "This code calculates the mean survival rate for each gender and each class accordingly\n",
    "\"\"\"\n",
    "#Grouping the data by gender ('Sex') and class ('PClass) and calculating the mean gender- and class-based survival percentage\n",
    "gender_class_survival = df.groupby(['Sex', 'Pclass'])['2urvived'].mean() \n",
    "\n",
    "print(\"----Survival Percentage Grouped by Gender and Class----\")\n",
    "print(gender_class_survival)\n",
    "#Identifying the gender-class combination with the highest survival percentage\n",
    "highest_survival_sexclass = gender_class_survival.idxmax()  # Getting the index (Sex, Pclass) with the highest survival rate\n",
    "highest_survival_sexclass_percentage = gender_class_survival.max()  # Getting the highest survival percentage\n",
    "\n",
    "print(\"\\n----Highest Survival Rate Grouped by Gender and Class----\")\n",
    "print(f\"The gender-class combination with the highest survival percentage rate is Sex {highest_survival_sexclass[0]} and Pclass {highest_survival_sexclass[1]} with a survival percentage of {highest_survival_sexclass_percentage:.2f}\")"
   ]
  }
 ],
 "metadata": {
  "celltoolbar": "Slideshow",
  "kernelspec": {
   "display_name": "Python 3 (ipykernel)",
   "language": "python",
   "name": "python3"
  },
  "language_info": {
   "codemirror_mode": {
    "name": "ipython",
    "version": 3
   },
   "file_extension": ".py",
   "mimetype": "text/x-python",
   "name": "python",
   "nbconvert_exporter": "python",
   "pygments_lexer": "ipython3",
   "version": "3.9.12"
  }
 },
 "nbformat": 4,
 "nbformat_minor": 5
}
