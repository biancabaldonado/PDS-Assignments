{
  "cells": [
    {
      "cell_type": "markdown",
      "id": "f4552012-e0e9-40af-8801-69d83733d433",
      "metadata": {
        "editable": true,
        "id": "f4552012-e0e9-40af-8801-69d83733d433",
        "tags": []
      },
      "source": [
        "---"
      ]
    },
    {
      "cell_type": "markdown",
      "id": "42f8be9a-cc71-4a58-97ac-1a54219a2d72",
      "metadata": {
        "editable": true,
        "id": "42f8be9a-cc71-4a58-97ac-1a54219a2d72",
        "tags": []
      },
      "source": [
        "## Object Oriented programming\n",
        "### Hands on\n",
        "\n",
        "Let's design a course registration system, where the requirements will be:\n",
        "\n",
        "1. Create a **Course** class, where each course has a name, a description and a list of enrolled students. You'll need to implement the next methods:\n",
        "    - Add a student to the course.\n",
        "    - Remove a student from the course.\n",
        "    - Show all students in the course."
      ]
    },
    {
      "cell_type": "code",
      "execution_count": 1,
      "id": "3defc2d5",
      "metadata": {},
      "outputs": [],
      "source": [
        "class Course:\n",
        "    def __init__(self, name, course_type):\n",
        "        self.students = []\n",
        "        self.name = name\n",
        "        self.course_type = course_type\n",
        "\n",
        "    def add_student(self, name):\n",
        "        if name not in self.students:\n",
        "            self.students.append(name)\n",
        "            print(name+\" \"+\"was added to the course\"+\" \"+self.name)\n",
        "        else:\n",
        "            print(name+\" \"+\"is already part of the course\"+\" \"+self.name)\n",
        "\n",
        "    def remove_student(self, name):\n",
        "        if name in self.students:\n",
        "            self.students.remove(name)\n",
        "            print(name+\" \"+\"was removed from\"+\" \"+self.name)\n",
        "        else:\n",
        "            print(name+\" \"+\"is not part of the course\"+\" \"+self.name)\n",
        "\n",
        "    def show_students(self):\n",
        "        if self.students:\n",
        "            print(\"The following are the names of the students enrolled in \"+\"\"+self.name+\":\")\n",
        "            for student in self.students:\n",
        "                print(\"-\"+ student)\n",
        "        else:\n",
        "            print(\"No students are enrolled in the course\"+\" \"+self.name)\n"
      ]
    },
    {
      "cell_type": "code",
      "execution_count": 2,
      "id": "3df95ed4",
      "metadata": {},
      "outputs": [
        {
          "name": "stdout",
          "output_type": "stream",
          "text": [
            "Abel was added to the course PDS\n",
            "Bianca was added to the course PDS\n",
            "Charles was added to the course PDS\n",
            "Abel is already part of the course PDS\n",
            "Bianca was removed from PDS\n",
            "The following are the names of the students enrolled in PDS:\n",
            "-Abel\n",
            "-Charles\n",
            "\n",
            "\n",
            "Lewis was added to the course BiS\n",
            "Oscar was added to the course BiS\n",
            "Colapinto was added to the course BiS\n",
            "Gavi was added to the course BiS\n",
            "Gavi was removed from BiS\n",
            "The following are the names of the students enrolled in BiS:\n",
            "-Lewis\n",
            "-Oscar\n",
            "-Colapinto\n"
          ]
        }
      ],
      "source": [
        "course1 = Course(\"PDS\",\"MsC MiBA\")\n",
        "course1.add_student(\"Abel\")\n",
        "course1.add_student(\"Bianca\")\n",
        "course1.add_student(\"Charles\")  \n",
        "course1.add_student(\"Abel\")  \n",
        "course1.remove_student(\"Bianca\")\n",
        "course1.show_students()  \n",
        "\n",
        "print(\"\\n\")\n",
        "course2 = Course(\"BiS\",\"MsC MiBA\")\n",
        "course2.add_student(\"Lewis\")\n",
        "course2.add_student(\"Oscar\")\n",
        "course2.add_student(\"Colapinto\")  \n",
        "course2.add_student(\"Gavi\")  \n",
        "course2.remove_student(\"Gavi\")\n",
        "course2.show_students()  \n"
      ]
    },
    {
      "cell_type": "markdown",
      "id": "16cc578c-9fe3-4478-81da-3071e3adb318",
      "metadata": {
        "editable": true,
        "id": "16cc578c-9fe3-4478-81da-3071e3adb318",
        "tags": []
      },
      "source": [
        "## Object Oriented programming\n",
        "### Hands on\n",
        "\n",
        "2. Create a **Student** class, where each student has a name, ID number, address and a list of enrolled courses with the following methods:\n",
        "    - Enroll in a course.\n",
        "    - Drop a course.\n",
        "    - Show all registered student courses."
      ]
    },
    {
      "cell_type": "code",
      "execution_count": 3,
      "id": "326ef93f",
      "metadata": {},
      "outputs": [],
      "source": [
        "class Student:\n",
        "    def __init__(self, student_id, name, courses):\n",
        "        self.courses = []\n",
        "        self.name = name\n",
        "        self.student_id = student_id\n",
        "        \n",
        "    def enroll_course(self,courses):\n",
        "        if courses not in self.courses:\n",
        "            self.courses.append(courses)\n",
        "            print(self.name+\" \"+\"was added to the course\"+\" \"+courses)\n",
        "        else:\n",
        "            print(self.name+\" \"+\"is already part of the course\"+\" \"+courses)\n",
        "    \n",
        "    def drop_course(self,courses):\n",
        "        if courses in self.courses:\n",
        "            self.courses.remove(courses)\n",
        "            print(self.name+\" \"+\"has dropped out of the course\"+\" \"+courses)\n",
        "        else:\n",
        "            print(self.name+\" \"+\"is not part of the course\"+\" \"+courses)\n",
        "\n",
        "    def show_courses(self):\n",
        "        if self.courses:\n",
        "            print(self.name+\"'s\"+\" \"+\"courses are as follows\")\n",
        "            for course in self.courses:\n",
        "                print(\"-\"+ course)\n",
        "        else:\n",
        "            print(self.name+\" \"+\"is not in any course\")"
      ]
    },
    {
      "cell_type": "code",
      "execution_count": 4,
      "id": "9b39650e",
      "metadata": {},
      "outputs": [
        {
          "name": "stdout",
          "output_type": "stream",
          "text": [
            "Bianca was added to the course PDS\n",
            "Bianca was added to the course CC\n",
            "Bianca was added to the course CAIC\n",
            "Bianca was added to the course BiS\n",
            "Bianca has dropped out of the course CAIC\n",
            "Bianca's courses are as follows\n",
            "-PDS\n",
            "-CC\n",
            "-BiS\n",
            "\n",
            "\n",
            "Bea was added to the course AI\n",
            "Bea was added to the course CC\n",
            "Bea was added to the course CAIC\n",
            "Bea was added to the course BiS\n",
            "Bea has dropped out of the course AI\n",
            "Bea has dropped out of the course BiS\n",
            "Bea's courses are as follows\n",
            "-CC\n",
            "-CAIC\n"
          ]
        }
      ],
      "source": [
        "student1 = Student(\"12345\", \"Bianca\", \"MiBA\")\n",
        "student1.enroll_course(\"PDS\")\n",
        "student1.enroll_course(\"CC\")\n",
        "student1.enroll_course(\"CAIC\")\n",
        "student1.enroll_course(\"BiS\")\n",
        "student1.drop_course(\"CAIC\")\n",
        "student1.show_courses() \n",
        "\n",
        "print(\"\\n\")\n",
        "student2 = Student(\"6789\", \"Bea\", \"MiBA\")\n",
        "student2.enroll_course(\"AI\")\n",
        "student2.enroll_course(\"CC\")\n",
        "student2.enroll_course(\"CAIC\")\n",
        "student2.enroll_course(\"BiS\")\n",
        "student2.drop_course(\"AI\")\n",
        "student2.drop_course(\"BiS\")\n",
        "student2.show_courses() \n"
      ]
    },
    {
      "cell_type": "markdown",
      "id": "5c54b2fe-691f-4520-b8d6-2515ba92b808",
      "metadata": {
        "editable": true,
        "id": "5c54b2fe-691f-4520-b8d6-2515ba92b808",
        "tags": []
      },
      "source": [
        "## Object Oriented programming\n",
        "### Hands on\n",
        "\n",
        "3. Create a central class that manages courses and students, **Registration** class, where you have a list of students and a list of courses, and methods:\n",
        "    - Enroll in a course.\n",
        "    - Drop a course.\n",
        "    - Show all the enrolled courses.\n",
        "    - Show all the students."
      ]
    },
    {
      "cell_type": "code",
      "execution_count": 100,
      "id": "cebb12c5",
      "metadata": {},
      "outputs": [],
      "source": [
        "class Registration:\n",
        "    def __init__(self):\n",
        "        self.students = []\n",
        "        self.courses = []\n",
        "\n",
        "    def add_student(self, student):\n",
        "        if student not in self.students:\n",
        "            self.students.append(student)\n",
        "            print(f\"{student.name} is enrolled\")\n",
        "\n",
        "    def add_course(self, course):\n",
        "        if course not in self.courses:\n",
        "            self.courses.append(course)\n",
        "            print(f\"{course.name} is enrolled\")\n",
        "            \n",
        "    def remove_student(self, student):\n",
        "        if student in self.students:\n",
        "            self.students.remove(student)\n",
        "            print(f\"{student.name} is no longer enrolled\")\n",
        "\n",
        "    def drop_course(self, course):\n",
        "        if course in self.courses:\n",
        "            self.students.remove(course)\n",
        "            print(f\"{course.name} is dropped\")\n",
        "\n",
        "    def enroll_student(self, student, course):\n",
        "        if course not in self.courses or student not in self.students:\n",
        "            if course not in self.courses:\n",
        "                self.courses.append(courses)\n",
        "                print(f\"{student.name} was added to the course {course.name}\")\n",
        "            if student not in self.students:\n",
        "                self.students.append(students)\n",
        "                print(f\"{student.name}+ was added to the course {course.name}\")\n",
        "        else:\n",
        "            print(f'{student.name}+ is already part of the course {course.name}')\n",
        "\n",
        "    def drop_course(self, student, course):\n",
        "        if course in self.courses or student in self.students:\n",
        "            if course in self.courses:\n",
        "                self.remove_student(student)\n",
        "                print(f\"{student.name} is removed from {course.name}\")\n",
        "            if student in self.students:\n",
        "                self.drop_course(course)\n",
        "                print(f\"{student.name} is removed from {course.name}\")\n",
        "        else:\n",
        "            print(f'{student.name}+ is not part of the course {course.name}')\n",
        "\n",
        "    def show_all_enrolled_courses(self):\n",
        "        print(\"All Enrolled Courses:\")\n",
        "        for course in self.courses:\n",
        "            print(\"-\"+course.name)\n",
        "\n",
        "    def show_all_students(self):\n",
        "        print(\"All Enrolled Students:\")\n",
        "        for student in self.students:\n",
        "            print(\"-\"+student.name)\n"
      ]
    },
    {
      "cell_type": "code",
      "execution_count": 101,
      "id": "2dd47065",
      "metadata": {},
      "outputs": [
        {
          "name": "stdout",
          "output_type": "stream",
          "text": [
            "Bianca is enrolled\n",
            "Bea is enrolled\n",
            "PDS is enrolled\n",
            "CC is enrolled\n",
            "Bianca+ is already part of the course PDS\n",
            "Bea+ is already part of the course PDS\n",
            "Bea+ is already part of the course CC\n",
            "\n",
            "Bea is no longer enrolled\n",
            "Bea is removed from PDS\n",
            "\n",
            "All Enrolled Students:\n",
            "-Bianca\n",
            "All Enrolled Courses:\n",
            "-PDS\n",
            "-CC\n"
          ]
        }
      ],
      "source": [
        "registration_system = Registration()\n",
        "student_a = Student(\"123\", \"Bianca\")\n",
        "student_b = Student(\"345\", \"Bea\")\n",
        "course_pds = Course(\"PDS\")\n",
        "course_cc = Course(\"CC\")\n",
        "\n",
        "registration_system.add_student(student_a)\n",
        "registration_system.add_student(student_b)\n",
        "registration_system.add_course(course_pds)\n",
        "registration_system.add_course(course_cc)\n",
        "\n",
        "registration_system.enroll_student(student_a, course_pds)\n",
        "registration_system.enroll_student(student_b, course_pds)\n",
        "registration_system.enroll_student(student_b, course_cc)\n",
        "print()\n",
        "registration_system.drop_course(student_b, course_pds)\n",
        "print()\n",
        "registration_system.show_all_students()\n",
        "\n",
        "registration_system.show_all_enrolled_courses()"
      ]
    },
    {
      "cell_type": "markdown",
      "id": "2958b01b-3472-4c95-ae1f-771edc638749",
      "metadata": {
        "editable": true,
        "id": "2958b01b-3472-4c95-ae1f-771edc638749",
        "tags": []
      },
      "source": [
        "## Object Oriented programming\n",
        "### Howework\n",
        "\n",
        "4. Let's add grades to each student's course and create method that yields the GPA given a student name or ID."
      ]
    },
    {
      "cell_type": "code",
      "execution_count": 93,
      "id": "319d2566",
      "metadata": {},
      "outputs": [],
      "source": [
        "class Grades:\n",
        "    def __init__(self):\n",
        "        self.students = []\n",
        "        self.courses = []\n",
        "\n",
        "    def add_student(self, student):\n",
        "        if student not in self.students:\n",
        "            self.students.append(student)\n",
        "\n",
        "    def add_course(self, course):\n",
        "        if course not in self.courses:\n",
        "            self.courses.append(course)\n",
        "\n",
        "    def enroll_student(self, student, course, grade=None):\n",
        "        self.add_student(student)\n",
        "        self.add_course(course)\n",
        "        student.enroll_in_course(course, grade)\n",
        "\n",
        "    def drop_course(self, student, course):\n",
        "        if course in self.courses and student in self.students:\n",
        "            course.remove_student(student)\n",
        "            if course in student.courses:\n",
        "                del student.courses[course]\n",
        "        else:\n",
        "            print(f\"{student.name} is not enrolled in {course.name}.\")\n",
        "\n",
        "    def show_all_enrolled_courses(self):\n",
        "        if self.courses:\n",
        "            for course in self.courses:\n",
        "                print(f\"Course: {course.name}\")\n",
        "                course.show_students()\n",
        "        else:\n",
        "            print(\"There are no enrolled courses.\")\n",
        "\n",
        "    \n",
        "    def show_all_students(self):\n",
        "        if self.students:\n",
        "            print(\"Enrolled students:\")\n",
        "            for student in self.students:\n",
        "                print(f\"- {student.name}\")\n",
        "        else:\n",
        "            print(\"There are no enrolled students.\")\n",
        "\n",
        "    def calculate_gpa(self, student_id):\n",
        "        student = next((s for s in self.students if s.id == student_id), None)\n",
        "        if not student:\n",
        "            print(\"Student not found.\")\n",
        "            return\n",
        "        gpa = student.calculate_gpa()\n",
        "        print(\"-\"+f\"GPA for {student.name} is {gpa:.2f}\")\n",
        "\n"
      ]
    },
    {
      "cell_type": "code",
      "execution_count": 94,
      "id": "0a55c9b3",
      "metadata": {},
      "outputs": [
        {
          "name": "stdout",
          "output_type": "stream",
          "text": [
            "Enrolled students:\n",
            "- Bianca\n",
            "- Basilio\n",
            "Course: PDS\n",
            "The following are the names of the students enrolled in PDS:\n",
            "- Bianca (Grade: 3.5)\n",
            "- Basilio (Grade: 4.0)\n",
            "Course: CC\n",
            "The following are the names of the students enrolled in CC:\n",
            "- Basilio (Grade: 3.8)\n",
            "-GPA for Bianca is 3.50\n",
            "-GPA for Basilio is 3.90\n"
          ]
        }
      ],
      "source": [
        "Grade = Grades()\n",
        "student_a = Student(\"123\", \"Bianca\")\n",
        "student_b = Student(\"345\", \"Basilio\")\n",
        "course_pds = Course(\"PDS\")\n",
        "course_cc = Course(\"CC\")\n",
        "\n",
        "Grade.add_student(student_a)\n",
        "Grade.add_student(student_b)\n",
        "Grade.add_course(course_pds)\n",
        "Grade.add_course(course_cc)\n",
        "\n",
        "Grade.enroll_student(student_a, course_pds, grade=3.5)\n",
        "Grade.enroll_student(student_b, course_pds, grade=4.0)\n",
        "Grade.enroll_student(student_b, course_cc, grade=3.8)\n",
        "\n",
        "Grade.show_all_students()\n",
        "Grade.show_all_enrolled_courses()\n",
        "\n",
        "Grade.calculate_gpa(\"123\")\n",
        "Grade.calculate_gpa(\"345\")"
      ]
    },
    {
      "cell_type": "markdown",
      "id": "76c565a9-dc30-464c-980d-d522cd5246f4",
      "metadata": {
        "editable": true,
        "id": "76c565a9-dc30-464c-980d-d522cd5246f4",
        "tags": []
      },
      "source": [
        "## That's all!"
      ]
    }
  ],
  "metadata": {
    "colab": {
      "provenance": []
    },
    "kernelspec": {
      "display_name": "Python 3 (ipykernel)",
      "language": "python",
      "name": "python3"
    },
    "language_info": {
      "codemirror_mode": {
        "name": "ipython",
        "version": 3
      },
      "file_extension": ".py",
      "mimetype": "text/x-python",
      "name": "python",
      "nbconvert_exporter": "python",
      "pygments_lexer": "ipython3",
      "version": "3.11.10"
    }
  },
  "nbformat": 4,
  "nbformat_minor": 5
}
