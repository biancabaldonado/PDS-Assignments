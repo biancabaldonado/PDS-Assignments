{
 "cells": [
  {
   "cell_type": "markdown",
   "metadata": {},
   "source": [
    "Exercise 1: FizzBuzz\n",
    "\n",
    "1. Write a FizzBuzz Function: Create a function fizzbuzz(n) that takes an integer n as a parameter.\n",
    "2. Implement FizzBuzz Logic: The function should print:\n",
    "- \"Fizz\" for multiples of 3\n",
    "- \"Buzz\" for multiples of 5\n",
    "- \"FizzBuzz\" for multiples of both 3 and 5\n",
    "- The number itself for other numbers\n",
    "3. Call the Function: Call the function for numbers 1 to 20."
   ]
  },
  {
   "cell_type": "code",
   "execution_count": 56,
   "metadata": {},
   "outputs": [
    {
     "name": "stdout",
     "output_type": "stream",
     "text": [
      "1\n",
      "2\n",
      "Fizz\n",
      "4\n",
      "Buzz\n",
      "Fizz\n",
      "7\n",
      "8\n",
      "Fizz\n",
      "Buzz\n",
      "11\n",
      "Fizz\n",
      "13\n",
      "14\n",
      "FizzBuzz\n",
      "16\n",
      "17\n",
      "Fizz\n",
      "19\n",
      "Buzz\n"
     ]
    }
   ],
   "source": [
    "def fizzbuzz(n):\n",
    "    for x in range(1,n+1):\n",
    "        if x%3==0 and x%5==0:\n",
    "            print(\"FizzBuzz\")\n",
    "        elif x%3==0:\n",
    "            print(\"Fizz\")\n",
    "        elif x%5==0:\n",
    "            print(\"Buzz\")\n",
    "        else:\n",
    "            print(x)\n",
    "fizzbuzz(20)         \n",
    "            "
   ]
  },
  {
   "cell_type": "markdown",
   "metadata": {},
   "source": [
    "Exercise 2: Basic Data Filtering\n",
    "\n",
    "1. Create a List of Mixed Data Types: Create a list that contains a mix of integers, strings, and floats.\n",
    "2. Filter the List: Use list comprehension to create a new list that contains only the integers from the original list.\n",
    "3. Print the New List: Output the filtered list of integers."
   ]
  },
  {
   "cell_type": "code",
   "execution_count": 29,
   "metadata": {},
   "outputs": [
    {
     "data": {
      "text/plain": [
       "[16, 81, 15]"
      ]
     },
     "execution_count": 29,
     "metadata": {},
     "output_type": "execute_result"
    }
   ],
   "source": [
    "List = [16,'C',44.4,81,1.1,'L','O','M',15,'B']\n",
    "Integers = [item for item in List if isinstance(item,int)]\n",
    "Integers"
   ]
  },
  {
   "cell_type": "markdown",
   "metadata": {},
   "source": [
    "Exercise 3: Simple To-Do List\n",
    "1. Create an Empty List: Start with an empty list called todo_list.\n",
    "2. Define Functions:\n",
    "- A function add_task(task) that adds a task to the list.\n",
    "- A function show_tasks() that prints all tasks in the list."
   ]
  },
  {
   "cell_type": "code",
   "execution_count": 47,
   "metadata": {},
   "outputs": [
    {
     "name": "stdout",
     "output_type": "stream",
     "text": [
      "homework\n",
      "cook\n",
      "clean\n"
     ]
    }
   ],
   "source": [
    "ToDo_List = []\n",
    "\n",
    "def add_task(task):\n",
    "    ToDo_List.append(task)\n",
    "\n",
    "def show_tasks():\n",
    "    for x in range(len(ToDo_List)):\n",
    "           print(ToDo_List[x])\n",
    "\n",
    "add_task('homework')\n",
    "add_task('cook')\n",
    "add_task('clean')\n",
    "\n",
    "show_tasks()\n",
    "\n"
   ]
  },
  {
   "cell_type": "markdown",
   "metadata": {},
   "source": [
    "Exercise 4: Temperature Converter\n",
    "1. Define a Conversion Function: Write a function celsius_to_fahrenheit(celsius) that converts Celsius to Fahrenheit.\n",
    "2. Print the Result: Output the converted temperature for 22ºF, 46ºF, 51ºF and 76ºF."
   ]
  },
  {
   "cell_type": "code",
   "execution_count": 12,
   "metadata": {},
   "outputs": [
    {
     "name": "stdout",
     "output_type": "stream",
     "text": [
      "71.6\n",
      "114.8\n",
      "123.8\n",
      "168.8\n"
     ]
    }
   ],
   "source": [
    "def celsius_to_fahrenheit(celsius):\n",
    "    print(celsius*(9/5)+32)\n",
    "\n",
    "celsius_to_fahrenheit(22)\n",
    "celsius_to_fahrenheit(46)\n",
    "celsius_to_fahrenheit(51)\n",
    "celsius_to_fahrenheit(76)"
   ]
  }
 ],
 "metadata": {
  "kernelspec": {
   "display_name": "base",
   "language": "python",
   "name": "python3"
  },
  "language_info": {
   "codemirror_mode": {
    "name": "ipython",
    "version": 3
   },
   "file_extension": ".py",
   "mimetype": "text/x-python",
   "name": "python",
   "nbconvert_exporter": "python",
   "pygments_lexer": "ipython3",
   "version": "3.11.10"
  }
 },
 "nbformat": 4,
 "nbformat_minor": 2
}
