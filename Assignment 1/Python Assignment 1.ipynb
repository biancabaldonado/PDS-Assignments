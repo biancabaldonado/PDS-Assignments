{
 "cells": [
  {
   "cell_type": "markdown",
   "id": "a90e9b61",
   "metadata": {},
   "source": [
    "# Exercise 1: Print a Greeting\n",
    "Write a Python program that prints a greeting message, such as \"Hello, Python!\"."
   ]
  },
  {
   "cell_type": "code",
   "execution_count": 2,
   "id": "e024915b",
   "metadata": {},
   "outputs": [
    {
     "name": "stdout",
     "output_type": "stream",
     "text": [
      "Hello, Python!\n"
     ]
    }
   ],
   "source": [
    "print(\"Hello, Python!\")"
   ]
  },
  {
   "cell_type": "markdown",
   "id": "7de07936",
   "metadata": {},
   "source": [
    "# Exercise 2: Basic Arithmetic\n",
    "Create a program that:\n",
    "-Defines two variables, a and b, with numerical values.\n",
    "-Prints their sum, difference, product, and quotient."
   ]
  },
  {
   "cell_type": "code",
   "execution_count": 140,
   "id": "d4b2af11",
   "metadata": {},
   "outputs": [
    {
     "name": "stdout",
     "output_type": "stream",
     "text": [
      "The sum is 60\n",
      "The difference is -28\n",
      "The product is 704\n",
      "The quotient is 0.36363636363636365\n"
     ]
    }
   ],
   "source": [
    "a = 16\n",
    "b = 44\n",
    "print(\"The sum is\",a+b)\n",
    "print(\"The difference is\",a-b)\n",
    "print(\"The product is\",a*b)\n",
    "print(\"The quotient is\",a/b)"
   ]
  },
  {
   "cell_type": "markdown",
   "id": "772cf219",
   "metadata": {},
   "source": [
    "# Exercise 3: String Manipulation\n",
    "Define a variable name and assign it your name. Write a program that prints a message saying \"Hello, [name]!\" where [name] is the value of the variable."
   ]
  },
  {
   "cell_type": "code",
   "execution_count": 14,
   "id": "2eaefa65",
   "metadata": {},
   "outputs": [
    {
     "name": "stdout",
     "output_type": "stream",
     "text": [
      "Hello, Bianca!\n"
     ]
    }
   ],
   "source": [
    "Name = 'Bianca'\n",
    "print(\"Hello,\",Name+\"!\")"
   ]
  },
  {
   "cell_type": "markdown",
   "id": "8db73cfe",
   "metadata": {},
   "source": [
    "# Exercise 4: Lists"
   ]
  },
  {
   "cell_type": "code",
   "execution_count": 22,
   "id": "ed2a01b9",
   "metadata": {},
   "outputs": [
    {
     "name": "stdout",
     "output_type": "stream",
     "text": [
      "['ESADE', 'Harvard', 'Oxford', 'Stanford', 'MIT']\n"
     ]
    }
   ],
   "source": [
    "#Create a list called universities with at least five different university names.\n",
    "Universities = ['ESADE','Harvard','Oxford','Stanford','MIT']\n",
    "#Print the entire list.\n",
    "print(Universities)"
   ]
  },
  {
   "cell_type": "code",
   "execution_count": 31,
   "id": "f93bc2de",
   "metadata": {},
   "outputs": [
    {
     "name": "stdout",
     "output_type": "stream",
     "text": [
      "['ESADE', 'MIT']\n"
     ]
    }
   ],
   "source": [
    "#Print the first and last university in the list.\n",
    "print([Universities[0],Universities[4]])"
   ]
  },
  {
   "cell_type": "markdown",
   "id": "b587e558",
   "metadata": {},
   "source": [
    "# Exercise 5: Dictionaries\n",
    "-Create a dictionary called student with keys: name, age, and grade, and assign appropriate values to each key.\n",
    "-Write a program that prints each key-value pair in the dictionary"
   ]
  },
  {
   "cell_type": "code",
   "execution_count": 7,
   "id": "4c19c767",
   "metadata": {},
   "outputs": [
    {
     "name": "stdout",
     "output_type": "stream",
     "text": [
      "name: Bianca\n",
      "age: 22\n",
      "grade: A\n"
     ]
    }
   ],
   "source": [
    "Student={'name':'Bianca','age':'22','grade':'A'}\n",
    "for key,value in Student.items():\n",
    "    print(key+\": \"+value)"
   ]
  },
  {
   "cell_type": "markdown",
   "id": "bed485cf",
   "metadata": {},
   "source": [
    "# Exercise 6: Tuples\n",
    "#Define a tuple called coordinates with two values representing a point in 2D space (e.g., (x, y)).\n",
    "#Print the value of coordinates and access each element by its index."
   ]
  },
  {
   "cell_type": "code",
   "execution_count": 109,
   "id": "01a321a9",
   "metadata": {},
   "outputs": [
    {
     "name": "stdout",
     "output_type": "stream",
     "text": [
      "(4, 6)\n"
     ]
    }
   ],
   "source": [
    "Coordinates=(4,6)\n",
    "print((Coordinates[0],Coordinates[1]))"
   ]
  },
  {
   "cell_type": "markdown",
   "id": "d74b82b8",
   "metadata": {},
   "source": [
    "# Exercise 7: Sets"
   ]
  },
  {
   "cell_type": "code",
   "execution_count": 110,
   "id": "c6f55e15",
   "metadata": {},
   "outputs": [
    {
     "data": {
      "text/plain": [
       "{'blue', 'green', 'pink', 'red'}"
      ]
     },
     "execution_count": 110,
     "metadata": {},
     "output_type": "execute_result"
    }
   ],
   "source": [
    "#Create a set called colors with the values: \"red\", \"green\", \"blue\".\n",
    "Colors = {\"red\",\"green\",\"blue\"}\n",
    "#Add another color to the set.\n",
    "Colors.add(\"pink\")\n",
    "Colors"
   ]
  },
  {
   "cell_type": "code",
   "execution_count": 111,
   "id": "7e36fc72",
   "metadata": {},
   "outputs": [
    {
     "data": {
      "text/plain": [
       "{'blue', 'green', 'pink', 'red'}"
      ]
     },
     "execution_count": 111,
     "metadata": {},
     "output_type": "execute_result"
    }
   ],
   "source": [
    "#Try adding a duplicate color and observe what happens.\n",
    "Colors = {\"red\",\"green\",\"blue\"}\n",
    "Colors.add(\"pink\")\n",
    "Colors.add(\"pink\")\n",
    "Colors"
   ]
  },
  {
   "cell_type": "code",
   "execution_count": 9,
   "id": "6604b528",
   "metadata": {},
   "outputs": [
    {
     "data": {
      "text/plain": [
       "{'green', 'pink', 'red'}"
      ]
     },
     "execution_count": 9,
     "metadata": {},
     "output_type": "execute_result"
    }
   ],
   "source": [
    "#Print the set and remove one color from it.\n",
    "Colors = {\"red\",\"green\",\"blue\"}\n",
    "Colors.add(\"pink\")\n",
    "Colors.pop()\n",
    "Colors"
   ]
  },
  {
   "cell_type": "code",
   "execution_count": 122,
   "id": "14840f63",
   "metadata": {},
   "outputs": [
    {
     "data": {
      "text/plain": [
       "{'cyan', 'magenta', 'yellow'}"
      ]
     },
     "execution_count": 122,
     "metadata": {},
     "output_type": "execute_result"
    }
   ],
   "source": [
    "#Create another set named light_colors\n",
    "Light_colors = {\"yellow\",\"cyan\",\"magenta\"}\n",
    "Light_colors"
   ]
  },
  {
   "cell_type": "code",
   "execution_count": 124,
   "id": "7563d512",
   "metadata": {},
   "outputs": [
    {
     "data": {
      "text/plain": [
       "{'blue', 'cyan', 'green', 'magenta', 'pink', 'yellow'}"
      ]
     },
     "execution_count": 124,
     "metadata": {},
     "output_type": "execute_result"
    }
   ],
   "source": [
    "#and merge colors and light_colors\n",
    "Colors = {\"red\",\"green\",\"blue\"}\n",
    "Colors.add(\"pink\")\n",
    "Colors.pop()\n",
    "Light_colors = {\"yellow\",\"cyan\",\"magenta\"}\n",
    "Colors.union(Light_colors)"
   ]
  },
  {
   "cell_type": "markdown",
   "id": "db736a7f",
   "metadata": {},
   "source": [
    "# Exercise 8: Conditional Statements\n",
    "Write a program that:\n",
    "-Takes an input number from the user.\n",
    "-Checks if the number is positive, negative, or zero.\n",
    "-Prints an appropriate message based on the result."
   ]
  },
  {
   "cell_type": "code",
   "execution_count": 11,
   "id": "21f3569d",
   "metadata": {},
   "outputs": [
    {
     "name": "stdout",
     "output_type": "stream",
     "text": [
      "Positive Number\n"
     ]
    }
   ],
   "source": [
    "number = float(input(\"Enter a number: \"))\n",
    "\n",
    "if number>0:\n",
    "    print(\"Positive Number\")\n",
    "elif number<0:\n",
    "    print(\"Negative Number\")\n",
    "elif number==0:\n",
    "    print (\"Zero\")\n",
    "else:\n",
    "    print(\"Error. Please try again.\")"
   ]
  },
  {
   "cell_type": "markdown",
   "id": "60d7852b",
   "metadata": {},
   "source": [
    "# Exercise 9: For Loop\n",
    "-Create a list of numbers from 1 to 5.\n",
    "-Use a for loop to iterate through the list and print each number."
   ]
  },
  {
   "cell_type": "code",
   "execution_count": 7,
   "id": "3fb2e466",
   "metadata": {},
   "outputs": [
    {
     "name": "stdout",
     "output_type": "stream",
     "text": [
      "1\n",
      "2\n",
      "3\n",
      "4\n",
      "5\n"
     ]
    }
   ],
   "source": [
    "Numbers = [1,2,3,4,5]\n",
    "for x in Numbers:\n",
    "    print(x)"
   ]
  },
  {
   "cell_type": "markdown",
   "id": "0a0745cb",
   "metadata": {},
   "source": [
    "# Exercise 10: While Loop\n",
    "-Write a program that uses a while loop to print numbers from 1 to 5.\n",
    "-Ensure the loop terminates correctly."
   ]
  },
  {
   "cell_type": "code",
   "execution_count": 101,
   "id": "1aca2719",
   "metadata": {},
   "outputs": [
    {
     "name": "stdout",
     "output_type": "stream",
     "text": [
      "1\n",
      "2\n",
      "3\n",
      "4\n",
      "5\n",
      "Loop completed\n"
     ]
    }
   ],
   "source": [
    "Numbers = 1\n",
    "while Numbers<=5:\n",
    "    print(Numbers)\n",
    "    Numbers+=1\n",
    "else:\n",
    "    print (\"Loop completed\")"
   ]
  },
  {
   "cell_type": "markdown",
   "id": "5e081d5f",
   "metadata": {},
   "source": [
    "# Exercise 11: Match Statement (Python 3.10+) --> Currently at Python 3.9\n",
    "-Write a program that:\n",
    "-Asks the user to input a grade (e.g., \"A\", \"B\", \"C\", \"D\", or \"F\").\n",
    "-Use a match statement to print a corresponding message for each grade:\n",
    "-\"A\": \"Excellent!\"\n",
    "-\"B\": \"Good job!\"\n",
    "-\"C\": \"Fair.\"\n",
    "-\"D\": \"Needs improvement.\"\n",
    "-\"F\": \"Failing.\"\n",
    "-Handle invalid input by printing a default message."
   ]
  },
  {
   "cell_type": "code",
   "execution_count": 5,
   "id": "c1c35ec6",
   "metadata": {},
   "outputs": [
    {
     "name": "stdout",
     "output_type": "stream",
     "text": [
      "Excellent!\n"
     ]
    }
   ],
   "source": [
    "#Note: Cannot download new version of Python. Currently at Python 3.9 Version\n",
    "grade = input(\"Enter a grade (A, B, C, D, or F)\")\n",
    "match grade:\n",
    "    case \"A\":\n",
    "        print(\"Excellent!\")\n",
    "    case \"B\":\n",
    "        print(\"Good job!\")\n",
    "    case \"C\":\n",
    "        print(\"Fair.\")\n",
    "    case \"D\":\n",
    "        print(\"Needs improvement.\")\n",
    "    case \"F\":\n",
    "        print(\"Failing.\")\n",
    "    case _:\n",
    "        print(\"Error. Please try again.\")"
   ]
  },
  {
   "cell_type": "markdown",
   "id": "2d0a5dbc",
   "metadata": {},
   "source": [
    "# Exercise 12: Define a Function\n",
    "-Write a function called greet that takes a name as an argument and prints \"Hello, [name]!\".\n",
    "-Call the function with your own name."
   ]
  },
  {
   "cell_type": "code",
   "execution_count": 76,
   "id": "e6b78f5f",
   "metadata": {
    "scrolled": true
   },
   "outputs": [
    {
     "data": {
      "text/plain": [
       "'Hello, Bianca!'"
      ]
     },
     "execution_count": 76,
     "metadata": {},
     "output_type": "execute_result"
    }
   ],
   "source": [
    "def Greet(name):\n",
    "    return \"Hello,\"+\" \"+name+\"!\"\n",
    "Greet(\"Bianca\")"
   ]
  },
  {
   "cell_type": "markdown",
   "id": "bc252699",
   "metadata": {},
   "source": [
    "# Exercise 13: Function with Return Value\n",
    "-Define a function called square that takes a number as an argument and returns its square.\n",
    "-Print the result of calling this function with different numbers."
   ]
  },
  {
   "cell_type": "code",
   "execution_count": 143,
   "id": "31c6f5f8",
   "metadata": {},
   "outputs": [
    {
     "name": "stdout",
     "output_type": "stream",
     "text": [
      "25\n",
      "169\n",
      "49\n"
     ]
    }
   ],
   "source": [
    "def Square(number):\n",
    "    return number**2\n",
    "    \n",
    "print(Square(5))\n",
    "print(Square(13))\n",
    "print(Square(7))"
   ]
  },
  {
   "cell_type": "markdown",
   "id": "30484317",
   "metadata": {},
   "source": [
    "# Exercise 14: Function with Default Parameters\n",
    "-Write a function called multiply that takes two parameters, a and b, and returns their product.\n",
    "-Set a default value of 1 for the parameter b.\n",
    "-Test the function with and without providing the second argument."
   ]
  },
  {
   "cell_type": "code",
   "execution_count": 145,
   "id": "0de1dab3",
   "metadata": {},
   "outputs": [
    {
     "data": {
      "text/plain": [
       "3"
      ]
     },
     "execution_count": 145,
     "metadata": {},
     "output_type": "execute_result"
    }
   ],
   "source": [
    "def Multiply(a,b=1):\n",
    "    return a*b\n",
    "\n",
    "Multiply(a=3)"
   ]
  },
  {
   "cell_type": "code",
   "execution_count": 146,
   "id": "9b86a76b",
   "metadata": {},
   "outputs": [
    {
     "data": {
      "text/plain": [
       "12"
      ]
     },
     "execution_count": 146,
     "metadata": {},
     "output_type": "execute_result"
    }
   ],
   "source": [
    "def Multiply(a,b=1):\n",
    "    return a*b\n",
    "\n",
    "Multiply(a=3,b=4)"
   ]
  },
  {
   "cell_type": "markdown",
   "id": "7b805f88",
   "metadata": {},
   "source": [
    "# Exercise 15: List Comprehension\n",
    "-Create a list of numbers from 1 to 10.\n",
    "-Use list comprehension to create a new list that contains the squares of these numbers.\n",
    "-Print the new list."
   ]
  },
  {
   "cell_type": "code",
   "execution_count": 144,
   "id": "45d69efb",
   "metadata": {},
   "outputs": [
    {
     "name": "stdout",
     "output_type": "stream",
     "text": [
      "[1, 4, 9, 16, 25, 36, 49, 64, 81, 100]\n"
     ]
    }
   ],
   "source": [
    "List = [1,2,3,4,5,6,7,8,9,10]\n",
    "List = [x*x for x in range(1,11)]\n",
    "print(List)"
   ]
  },
  {
   "cell_type": "markdown",
   "id": "eca17b5f",
   "metadata": {},
   "source": [
    "# Exercise 16: Nested Data Structures\n",
    "-Create a dictionary where the keys are names of students and the values are lists of their grades.\n",
    "-Write a function that takes the dictionary and prints the average grade for each student."
   ]
  },
  {
   "cell_type": "code",
   "execution_count": 13,
   "id": "621021e5",
   "metadata": {},
   "outputs": [
    {
     "name": "stdout",
     "output_type": "stream",
     "text": [
      "Charles - 95.75\n",
      "Oscar - 85.75\n",
      "Max - 90.75\n",
      "Lewis - 94.5\n"
     ]
    }
   ],
   "source": [
    "Students={'Charles':[95,98,93,97],'Oscar':[92,87,89,75],'Max':[93,94,89,87],'Lewis':[100,91,94,93]}\n",
    "def Grades(Students):\n",
    "    for key, value in Students.items():\n",
    "        Students = sum(value)/ float(len(value))\n",
    "        print(key+\" -\",Students)\n",
    "Grades(Students)"
   ]
  },
  {
   "cell_type": "markdown",
   "id": "051a1f5b",
   "metadata": {},
   "source": [
    "# Exercise 17: Simple Calculator\n",
    "Write a program that:\n",
    "-Defines a function calculate which takes three parameters: two numbers and an operator (+, -, *, /).\n",
    "-Performs the operation and returns the result.\n",
    "-Ask the user for the two numbers and the operator, then call the function and print the result."
   ]
  },
  {
   "cell_type": "code",
   "execution_count": 9,
   "id": "b07db8ce",
   "metadata": {},
   "outputs": [
    {
     "name": "stdout",
     "output_type": "stream",
     "text": [
      "Enter a number4\n",
      "Enter another number6\n",
      "Enter an operator (+, -, *, /)/\n"
     ]
    },
    {
     "data": {
      "text/plain": [
       "0.6666666666666666"
      ]
     },
     "execution_count": 9,
     "metadata": {},
     "output_type": "execute_result"
    }
   ],
   "source": [
    "def Calculate(x,y,operator):\n",
    "    x=float(input(\"Enter a number\"))\n",
    "    y=float(input(\"Enter another number\"))\n",
    "    operator=input(\"Enter an operator (+, -, *, /)\")\n",
    "    if operator==\"+\":\n",
    "        return x+y\n",
    "    elif operator==\"-\":\n",
    "        return x-y\n",
    "    elif operator==\"*\":\n",
    "        return x*y\n",
    "    elif operator==\"/\":\n",
    "        return x/y\n",
    "    else:\n",
    "        return \"Error. Please try again.\"\n",
    "\n",
    "Calculate(x,y,operator)"
   ]
  }
 ],
 "metadata": {
  "kernelspec": {
   "display_name": "Python 3 (ipykernel)",
   "language": "python",
   "name": "python3"
  },
  "language_info": {
   "codemirror_mode": {
    "name": "ipython",
    "version": 3
   },
   "file_extension": ".py",
   "mimetype": "text/x-python",
   "name": "python",
   "nbconvert_exporter": "python",
   "pygments_lexer": "ipython3",
   "version": "3.12.2"
  }
 },
 "nbformat": 4,
 "nbformat_minor": 5
}
